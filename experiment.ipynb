{
 "cells": [
  {
   "cell_type": "code",
   "execution_count": 73,
   "metadata": {},
   "outputs": [],
   "source": [
    "\n",
    "import tensorflow as tf\n",
    "import random as rn\n",
    "import os\n",
    "from collections import Counter\n",
    "\n",
    "\n",
    "os.environ['PYTHONHASHSEED']='0'\n",
    "\n",
    "#FONTE: https://keras.io/getting-started/faq/#how-can-i-obtain-reproducible-results-using-keras-during-development\n",
    "# The below is necessary for starting Numpy generated random numbers\n",
    "# in a well-defined initial state.\n",
    "\n",
    "np.random.seed(42)\n",
    "\n",
    "# The below is necessary for starting core Python generated random numbers\n",
    "# in a well-defined state.\n",
    "\n",
    "rn.seed(12345)\n",
    "\n",
    "# Force TensorFlow to use single thread.\n",
    "# Multiple threads are a potential source of non-reproducible results.\n",
    "# For further details, see: https://stackoverflow.com/questions/42022950/\n",
    "\n",
    "#ATTENTO: SE MI SALVO IL MODELLO NON HO BISOGNO DI DATI RIPRODUCIBILI E POSSO USARE IL PARALLELISMO\n",
    "#session_conf = tf.ConfigProto(intra_op_parallelism_threads=1,\n",
    "#                              inter_op_parallelism_threads=1)\n",
    "\n",
    "from keras import backend as K\n",
    "\n",
    "# The below tf.set_random_seed() will make random number generation\n",
    "# in the TensorFlow backend have a well-defined initial state.\n",
    "# For further details, see:\n",
    "# https://www.tensorflow.org/api_docs/python/tf/set_random_seed\n",
    "\n",
    "tf.set_random_seed(1234)\n",
    "import os\n",
    "\n",
    "\n",
    "\n",
    "os.environ['PYTHONHASHSEED']='0'\n",
    "\n",
    "#FONTE: https://keras.io/getting-started/faq/#how-can-i-obtain-reproducible-results-using-keras-during-development\n",
    "# The below is necessary for starting Numpy generated random numbers\n",
    "# in a well-defined initial state.\n",
    "\n",
    "np.random.seed(42)\n",
    "\n",
    "# The below is necessary for starting core Python generated random numbers\n",
    "# in a well-defined state.\n",
    "\n",
    "rn.seed(12345)\n",
    "\n",
    "# Force TensorFlow to use single thread.\n",
    "# Multiple threads are a potential source of non-reproducible results.\n",
    "# For further details, see: https://stackoverflow.com/questions/42022950/\n",
    "\n",
    "#ATTENTO: SE MI SALVO IL MODELLO NON HO BISOGNO DI DATI RIPRODUCIBILI E POSSO USARE IL PARALLELISMO\n",
    "#session_conf = tf.ConfigProto(intra_op_parallelism_threads=1,\n",
    "#                              inter_op_parallelism_threads=1)\n",
    "\n",
    "from keras import backend as K\n",
    "\n",
    "# The below tf.set_random_seed() will make random number generation\n",
    "# in the TensorFlow backend have a well-defined initial state.\n",
    "# For further details, see:\n",
    "# https://www.tensorflow.org/api_docs/python/tf/set_random_seed\n",
    "\n",
    "tf.set_random_seed(1234)\n",
    "\n",
    "\n",
    "\n",
    "import pandas as pd\n",
    "import numpy as np  \n",
    "from sklearn.model_selection import train_test_split   \n",
    "from utility import Utility\n",
    "from dataset import Dataset\n",
    "from keras.models import Sequential\n",
    "from keras.layers import Dense, Activation, Dropout\n",
    "from collections import Counter\n",
    "from keras.layers import Dense, Conv2D, Flatten\n",
    "from keras.activations import relu, elu, sigmoid,softmax\n",
    "from keras.losses import categorical_crossentropy, logcosh,binary_crossentropy\n",
    "from talos.metrics.keras_metrics import  precision_acc, recall_acc, fmeasure_acc #https://github.com/netrack/keras-metrics/blob/master/keras_metrics/metrics.py\n",
    "from talos.model.normalizers import lr_normalizer\n",
    "from talos import live\n",
    "import talos as ta\n",
    "from keras.optimizers import Adam, Nadam, RMSprop\n",
    "from sklearn.metrics import accuracy_score\n",
    "\n",
    "X_train=pd.read_csv(\"X_train.csv\", delimiter=\",\").values\n",
    "X_val=pd.read_csv(\"X_val.csv\", delimiter=\",\").values\n",
    "y_train=pd.read_csv(\"y_train.csv\", delimiter=\",\").values\n",
    "y_val=pd.read_csv(\"y_val.csv\", delimiter=\",\").values"
   ]
  },
  {
   "cell_type": "code",
   "execution_count": null,
   "metadata": {},
   "outputs": [],
   "source": []
  },
  {
   "cell_type": "code",
   "execution_count": null,
   "metadata": {},
   "outputs": [],
   "source": []
  },
  {
   "cell_type": "code",
   "execution_count": null,
   "metadata": {},
   "outputs": [],
   "source": []
  },
  {
   "cell_type": "code",
   "execution_count": 74,
   "metadata": {},
   "outputs": [
    {
     "data": {
      "text/plain": [
       "((413, 14), (137, 14), (413, 1), (137, 1))"
      ]
     },
     "execution_count": 74,
     "metadata": {},
     "output_type": "execute_result"
    }
   ],
   "source": [
    "X_train.shape, X_val.shape, y_train.shape, y_val.shape"
   ]
  },
  {
   "cell_type": "code",
   "execution_count": 75,
   "metadata": {},
   "outputs": [
    {
     "name": "stderr",
     "output_type": "stream",
     "text": [
      "100%|██████████| 1/1 [00:08<00:00,  8.61s/it]"
     ]
    },
    {
     "name": "stdout",
     "output_type": "stream",
     "text": [
      "Scan Finished!\n"
     ]
    },
    {
     "name": "stderr",
     "output_type": "stream",
     "text": [
      "\n"
     ]
    }
   ],
   "source": [
    "def getCNNParams():\n",
    "        from keras.optimizers import Adam, Nadam, RMSprop\n",
    "\n",
    "        p= {'lr': [4.0002],\n",
    "            'first_neuron':[8],\n",
    "            'hidden_layers': [2],\n",
    "            'batch_size': [4],\n",
    "            'epochs': [100],\n",
    "            'dropout': [0.12],\n",
    "            'weight_regulizer': [None],\n",
    "            'emb_output_dims': [None],\n",
    "            'optimizer': [Adam],\n",
    "            'losses': [binary_crossentropy],\n",
    "            'activation': [elu],\n",
    "            'last_activation': [sigmoid]}\n",
    "        \n",
    "        \"\"\"\n",
    "        p= {'lr': (1, 5, 10),\n",
    "           'first_neuron':[8,16,32],\n",
    "           'hidden_layers': [1,2, 3, 4,5,6],\n",
    "           'batch_size': [4,8,16,32,64],\n",
    "           'epochs': [500,800,1000],\n",
    "           'dropout': (0, 0.3, 10),\n",
    "           'weight_regulizer': [None],\n",
    "           'emb_output_dims': [None],\n",
    "           'optimizer': [Adam, RMSprop],\n",
    "           'losses': [binary_crossentropy],\n",
    "           'activation': [relu,elu],\n",
    "           'last_activation': [sigmoid]}\"\"\"\n",
    "        return p \n",
    "    \n",
    "def getCNNModel( x_train, y_train, x_val, y_val, params):\n",
    "        \n",
    "        model = Sequential()\n",
    "        model.add(Dense(params['first_neuron'],\n",
    "                        input_dim=x_train.shape[1],\n",
    "                        activation=params['activation']))\n",
    "        #hidden layer\n",
    "        ta.model.hidden_layers(model, params, 1)\n",
    "        \n",
    "        model.add(Dense(1, activation=params['last_activation']))\n",
    "    \n",
    "        model.compile(optimizer=params['optimizer'](lr_normalizer(params['lr'], params['optimizer'])),\n",
    "                      loss=params['losses'],\n",
    "                      metrics=['acc',fmeasure_acc,precision_acc, recall_acc])\n",
    "    \n",
    "       \n",
    "        \n",
    "        history = model.fit(x_train, y_train,\n",
    "                        batch_size=params['batch_size'],\n",
    "                        epochs=params['epochs'],\n",
    "                        verbose=0,\n",
    "                        validation_data=[x_val, y_val])\n",
    "                        #callbacks=[live()])  da aggiungere se si vuole vedere il plotting durante le epoche ma molto leto\n",
    "    \n",
    "        return history, model\n",
    "\n",
    "params=getCNNParams()\n",
    "\n",
    "scan = ta.Scan(X_train, y_train,\n",
    "        params=params,\n",
    "        dataset_name=\"name\",\n",
    "        x_val=X_val,\n",
    "        y_val=y_val,\n",
    "        experiment_no=\"1\",\n",
    "        model=getCNNModel,\n",
    "        grid_downsample=1)"
   ]
  },
  {
   "cell_type": "code",
   "execution_count": 76,
   "metadata": {},
   "outputs": [
    {
     "name": "stdout",
     "output_type": "stream",
     "text": [
      "Deploy package experiment have been saved.\n"
     ]
    },
    {
     "data": {
      "text/plain": [
       "<talos.commands.deploy.Deploy at 0x7fc715a99ef0>"
      ]
     },
     "execution_count": 76,
     "metadata": {},
     "output_type": "execute_result"
    }
   ],
   "source": [
    "ta.Deploy(scan,\"experiment\",metric= \"val_acc\")"
   ]
  },
  {
   "cell_type": "code",
   "execution_count": 77,
   "metadata": {},
   "outputs": [
    {
     "data": {
      "text/html": [
       "<div>\n",
       "<style scoped>\n",
       "    .dataframe tbody tr th:only-of-type {\n",
       "        vertical-align: middle;\n",
       "    }\n",
       "\n",
       "    .dataframe tbody tr th {\n",
       "        vertical-align: top;\n",
       "    }\n",
       "\n",
       "    .dataframe thead th {\n",
       "        text-align: right;\n",
       "    }\n",
       "</style>\n",
       "<table border=\"1\" class=\"dataframe\">\n",
       "  <thead>\n",
       "    <tr style=\"text-align: right;\">\n",
       "      <th></th>\n",
       "      <th>round_epochs</th>\n",
       "      <th>val_loss</th>\n",
       "      <th>val_acc</th>\n",
       "      <th>val_fmeasure_acc</th>\n",
       "      <th>val_precision_acc</th>\n",
       "      <th>val_recall_acc</th>\n",
       "      <th>loss</th>\n",
       "      <th>acc</th>\n",
       "      <th>fmeasure_acc</th>\n",
       "      <th>precision_acc</th>\n",
       "      <th>...</th>\n",
       "      <th>hidden_layers</th>\n",
       "      <th>batch_size</th>\n",
       "      <th>epochs</th>\n",
       "      <th>dropout</th>\n",
       "      <th>weight_regulizer</th>\n",
       "      <th>emb_output_dims</th>\n",
       "      <th>optimizer</th>\n",
       "      <th>losses</th>\n",
       "      <th>activation</th>\n",
       "      <th>last_activation</th>\n",
       "    </tr>\n",
       "  </thead>\n",
       "  <tbody>\n",
       "    <tr>\n",
       "      <th>0</th>\n",
       "      <td>100</td>\n",
       "      <td>0.43787189115545827</td>\n",
       "      <td>0.8248175182481752</td>\n",
       "      <td>0.6257212035847406</td>\n",
       "      <td>0.6715328162604005</td>\n",
       "      <td>0.6788320967750828</td>\n",
       "      <td>0.4101038930202512</td>\n",
       "      <td>0.8353510895883777</td>\n",
       "      <td>0.7479072444086791</td>\n",
       "      <td>0.7627118378516837</td>\n",
       "      <td>...</td>\n",
       "      <td>2</td>\n",
       "      <td>4</td>\n",
       "      <td>100</td>\n",
       "      <td>0.12</td>\n",
       "      <td>None</td>\n",
       "      <td>None</td>\n",
       "      <td>&lt;class 'keras.optimizers.Adam'&gt;</td>\n",
       "      <td>&lt;function binary_crossentropy at 0x7fc719cb82f0&gt;</td>\n",
       "      <td>&lt;function elu at 0x7fc719cdcd90&gt;</td>\n",
       "      <td>&lt;function sigmoid at 0x7fc719c6b158&gt;</td>\n",
       "    </tr>\n",
       "  </tbody>\n",
       "</table>\n",
       "<p>1 rows × 23 columns</p>\n",
       "</div>"
      ],
      "text/plain": [
       "  round_epochs             val_loss             val_acc    val_fmeasure_acc  \\\n",
       "0          100  0.43787189115545827  0.8248175182481752  0.6257212035847406   \n",
       "\n",
       "    val_precision_acc      val_recall_acc                loss  \\\n",
       "0  0.6715328162604005  0.6788320967750828  0.4101038930202512   \n",
       "\n",
       "                  acc        fmeasure_acc       precision_acc  \\\n",
       "0  0.8353510895883777  0.7479072444086791  0.7627118378516837   \n",
       "\n",
       "                   ...                  hidden_layers batch_size epochs  \\\n",
       "0                  ...                              2          4    100   \n",
       "\n",
       "  dropout weight_regulizer emb_output_dims                        optimizer  \\\n",
       "0    0.12             None            None  <class 'keras.optimizers.Adam'>   \n",
       "\n",
       "                                             losses  \\\n",
       "0  <function binary_crossentropy at 0x7fc719cb82f0>   \n",
       "\n",
       "                         activation                       last_activation  \n",
       "0  <function elu at 0x7fc719cdcd90>  <function sigmoid at 0x7fc719c6b158>  \n",
       "\n",
       "[1 rows x 23 columns]"
      ]
     },
     "execution_count": 77,
     "metadata": {},
     "output_type": "execute_result"
    }
   ],
   "source": [
    "scan.data"
   ]
  },
  {
   "cell_type": "code",
   "execution_count": 78,
   "metadata": {},
   "outputs": [],
   "source": [
    "restore=ta.Restore(\"experiment.zip\")"
   ]
  },
  {
   "cell_type": "code",
   "execution_count": 79,
   "metadata": {},
   "outputs": [
    {
     "data": {
      "text/plain": [
       "0.8087167070217918"
      ]
     },
     "execution_count": 79,
     "metadata": {},
     "output_type": "execute_result"
    }
   ],
   "source": [
    "model=restore.model\n",
    "y_pred_train=model.predict_classes(X_train)\n",
    "(y_pred_train==y_train).mean()"
   ]
  },
  {
   "cell_type": "code",
   "execution_count": 80,
   "metadata": {},
   "outputs": [
    {
     "name": "stdout",
     "output_type": "stream",
     "text": [
      "413/413 [==============================] - 0s 116us/step\n"
     ]
    },
    {
     "data": {
      "text/plain": [
       "(0.42492127432950183, 0.8087167075990764)"
      ]
     },
     "execution_count": 80,
     "metadata": {},
     "output_type": "execute_result"
    }
   ],
   "source": [
    "model.compile(optimizer=Adam(lr=4.0002), loss='binary_crossentropy', metrics=['acc'] )\n",
    "loss, metric=model.evaluate(X_train, y_train)\n",
    "loss, metric"
   ]
  },
  {
   "cell_type": "code",
   "execution_count": 81,
   "metadata": {},
   "outputs": [
    {
     "data": {
      "text/plain": [
       "0.8087167070217918"
      ]
     },
     "execution_count": 81,
     "metadata": {},
     "output_type": "execute_result"
    }
   ],
   "source": [
    "accuracy_score(y_pred_train, y_train)   #here seems to work "
   ]
  },
  {
   "cell_type": "code",
   "execution_count": 86,
   "metadata": {},
   "outputs": [
    {
     "name": "stdout",
     "output_type": "stream",
     "text": [
      "_________________________________________________________________\n",
      "Layer (type)                 Output Shape              Param #   \n",
      "=================================================================\n",
      "dense_1 (Dense)              (None, 8)                 120       \n",
      "_________________________________________________________________\n",
      "dense_2 (Dense)              (None, 8)                 72        \n",
      "_________________________________________________________________\n",
      "dropout_1 (Dropout)          (None, 8)                 0         \n",
      "_________________________________________________________________\n",
      "dense_3 (Dense)              (None, 8)                 72        \n",
      "_________________________________________________________________\n",
      "dropout_2 (Dropout)          (None, 8)                 0         \n",
      "_________________________________________________________________\n",
      "dense_4 (Dense)              (None, 1)                 9         \n",
      "=================================================================\n",
      "Total params: 273\n",
      "Trainable params: 273\n",
      "Non-trainable params: 0\n",
      "_________________________________________________________________\n"
     ]
    }
   ],
   "source": [
    "#NOW IF I TRY TO RESTORE PREVIOUS RESULTS WITH A LARGE SCAN SOMETHING DIDN'T WORK\n",
    "r_acc4=ta.Restore('australian23-01-2019 19:42:36val_acc.zip')\n",
    "model4=r_acc4.model\n",
    "model4.summary()"
   ]
  },
  {
   "cell_type": "code",
   "execution_count": null,
   "metadata": {},
   "outputs": [],
   "source": []
  },
  {
   "cell_type": "code",
   "execution_count": 89,
   "metadata": {},
   "outputs": [
    {
     "data": {
      "text/html": [
       "<div>\n",
       "<style scoped>\n",
       "    .dataframe tbody tr th:only-of-type {\n",
       "        vertical-align: middle;\n",
       "    }\n",
       "\n",
       "    .dataframe tbody tr th {\n",
       "        vertical-align: top;\n",
       "    }\n",
       "\n",
       "    .dataframe thead th {\n",
       "        text-align: right;\n",
       "    }\n",
       "</style>\n",
       "<table border=\"1\" class=\"dataframe\">\n",
       "  <thead>\n",
       "    <tr style=\"text-align: right;\">\n",
       "      <th></th>\n",
       "      <th>round_epochs</th>\n",
       "      <th>val_loss</th>\n",
       "      <th>acc</th>\n",
       "      <th>loss</th>\n",
       "      <th>val_precision_acc</th>\n",
       "      <th>val_acc</th>\n",
       "      <th>val_recall_acc</th>\n",
       "      <th>fmeasure_acc</th>\n",
       "      <th>recall_acc</th>\n",
       "      <th>precision_acc</th>\n",
       "      <th>...</th>\n",
       "      <th>batch_size</th>\n",
       "      <th>activation</th>\n",
       "      <th>emb_output_dims</th>\n",
       "      <th>last_activation</th>\n",
       "      <th>first_neuron</th>\n",
       "      <th>hidden_layers</th>\n",
       "      <th>optimizer</th>\n",
       "      <th>lr</th>\n",
       "      <th>losses</th>\n",
       "      <th>epochs</th>\n",
       "    </tr>\n",
       "  </thead>\n",
       "  <tbody>\n",
       "    <tr>\n",
       "      <th>268</th>\n",
       "      <td>1000</td>\n",
       "      <td>0.577316</td>\n",
       "      <td>0.927536</td>\n",
       "      <td>0.294325</td>\n",
       "      <td>0.816425</td>\n",
       "      <td>0.920290</td>\n",
       "      <td>0.809179</td>\n",
       "      <td>0.844904</td>\n",
       "      <td>0.888889</td>\n",
       "      <td>0.859098</td>\n",
       "      <td>...</td>\n",
       "      <td>2</td>\n",
       "      <td>&lt;function elu at 0x7f5dbcc10a60&gt;</td>\n",
       "      <td>None</td>\n",
       "      <td>&lt;function sigmoid at 0x7f5dbcc10d90&gt;</td>\n",
       "      <td>8</td>\n",
       "      <td>4</td>\n",
       "      <td>&lt;class 'keras.optimizers.Adam'&gt;</td>\n",
       "      <td>4.0002</td>\n",
       "      <td>&lt;function binary_crossentropy at 0x7f5dbcc60bf8&gt;</td>\n",
       "      <td>1000</td>\n",
       "    </tr>\n",
       "    <tr>\n",
       "      <th>798</th>\n",
       "      <td>1000</td>\n",
       "      <td>0.679485</td>\n",
       "      <td>0.944444</td>\n",
       "      <td>1.236957</td>\n",
       "      <td>0.915942</td>\n",
       "      <td>0.913043</td>\n",
       "      <td>0.899517</td>\n",
       "      <td>0.925427</td>\n",
       "      <td>0.968760</td>\n",
       "      <td>0.951691</td>\n",
       "      <td>...</td>\n",
       "      <td>5</td>\n",
       "      <td>&lt;function relu at 0x7f5dbcc10c80&gt;</td>\n",
       "      <td>None</td>\n",
       "      <td>&lt;function sigmoid at 0x7f5dbcc10d90&gt;</td>\n",
       "      <td>8</td>\n",
       "      <td>8</td>\n",
       "      <td>&lt;class 'keras.optimizers.RMSprop'&gt;</td>\n",
       "      <td>2.5005</td>\n",
       "      <td>&lt;function binary_crossentropy at 0x7f5dbcc60bf8&gt;</td>\n",
       "      <td>1000</td>\n",
       "    </tr>\n",
       "    <tr>\n",
       "      <th>562</th>\n",
       "      <td>800</td>\n",
       "      <td>0.919119</td>\n",
       "      <td>0.963768</td>\n",
       "      <td>0.162795</td>\n",
       "      <td>0.934299</td>\n",
       "      <td>0.913043</td>\n",
       "      <td>0.873752</td>\n",
       "      <td>0.959356</td>\n",
       "      <td>0.969973</td>\n",
       "      <td>0.966484</td>\n",
       "      <td>...</td>\n",
       "      <td>4</td>\n",
       "      <td>&lt;function elu at 0x7f5dbcc10a60&gt;</td>\n",
       "      <td>None</td>\n",
       "      <td>&lt;function sigmoid at 0x7f5dbcc10d90&gt;</td>\n",
       "      <td>32</td>\n",
       "      <td>32</td>\n",
       "      <td>&lt;class 'keras.optimizers.Adam'&gt;</td>\n",
       "      <td>4.0002</td>\n",
       "      <td>&lt;function binary_crossentropy at 0x7f5dbcc60bf8&gt;</td>\n",
       "      <td>800</td>\n",
       "    </tr>\n",
       "    <tr>\n",
       "      <th>1007</th>\n",
       "      <td>500</td>\n",
       "      <td>0.639003</td>\n",
       "      <td>0.905797</td>\n",
       "      <td>0.841443</td>\n",
       "      <td>0.782609</td>\n",
       "      <td>0.913043</td>\n",
       "      <td>0.743961</td>\n",
       "      <td>0.793927</td>\n",
       "      <td>0.802737</td>\n",
       "      <td>0.842995</td>\n",
       "      <td>...</td>\n",
       "      <td>5</td>\n",
       "      <td>&lt;function relu at 0x7f5dbcc10c80&gt;</td>\n",
       "      <td>None</td>\n",
       "      <td>&lt;function sigmoid at 0x7f5dbcc10d90&gt;</td>\n",
       "      <td>16</td>\n",
       "      <td>4</td>\n",
       "      <td>&lt;class 'keras.optimizers.RMSprop'&gt;</td>\n",
       "      <td>3.0004</td>\n",
       "      <td>&lt;function binary_crossentropy at 0x7f5dbcc60bf8&gt;</td>\n",
       "      <td>500</td>\n",
       "    </tr>\n",
       "    <tr>\n",
       "      <th>916</th>\n",
       "      <td>500</td>\n",
       "      <td>0.435252</td>\n",
       "      <td>0.893720</td>\n",
       "      <td>0.431952</td>\n",
       "      <td>0.915942</td>\n",
       "      <td>0.913043</td>\n",
       "      <td>0.894686</td>\n",
       "      <td>0.866625</td>\n",
       "      <td>0.877295</td>\n",
       "      <td>0.925374</td>\n",
       "      <td>...</td>\n",
       "      <td>1</td>\n",
       "      <td>&lt;function relu at 0x7f5dbcc10c80&gt;</td>\n",
       "      <td>None</td>\n",
       "      <td>&lt;function sigmoid at 0x7f5dbcc10d90&gt;</td>\n",
       "      <td>8</td>\n",
       "      <td>8</td>\n",
       "      <td>&lt;class 'keras.optimizers.RMSprop'&gt;</td>\n",
       "      <td>3.0004</td>\n",
       "      <td>&lt;function binary_crossentropy at 0x7f5dbcc60bf8&gt;</td>\n",
       "      <td>500</td>\n",
       "    </tr>\n",
       "  </tbody>\n",
       "</table>\n",
       "<p>5 rows × 23 columns</p>\n",
       "</div>"
      ],
      "text/plain": [
       "      round_epochs  val_loss       acc      loss  val_precision_acc   val_acc  \\\n",
       "268           1000  0.577316  0.927536  0.294325           0.816425  0.920290   \n",
       "798           1000  0.679485  0.944444  1.236957           0.915942  0.913043   \n",
       "562            800  0.919119  0.963768  0.162795           0.934299  0.913043   \n",
       "1007           500  0.639003  0.905797  0.841443           0.782609  0.913043   \n",
       "916            500  0.435252  0.893720  0.431952           0.915942  0.913043   \n",
       "\n",
       "      val_recall_acc  fmeasure_acc  recall_acc  precision_acc  ...    \\\n",
       "268         0.809179      0.844904    0.888889       0.859098  ...     \n",
       "798         0.899517      0.925427    0.968760       0.951691  ...     \n",
       "562         0.873752      0.959356    0.969973       0.966484  ...     \n",
       "1007        0.743961      0.793927    0.802737       0.842995  ...     \n",
       "916         0.894686      0.866625    0.877295       0.925374  ...     \n",
       "\n",
       "      batch_size                         activation  emb_output_dims  \\\n",
       "268            2   <function elu at 0x7f5dbcc10a60>             None   \n",
       "798            5  <function relu at 0x7f5dbcc10c80>             None   \n",
       "562            4   <function elu at 0x7f5dbcc10a60>             None   \n",
       "1007           5  <function relu at 0x7f5dbcc10c80>             None   \n",
       "916            1  <function relu at 0x7f5dbcc10c80>             None   \n",
       "\n",
       "                           last_activation first_neuron hidden_layers  \\\n",
       "268   <function sigmoid at 0x7f5dbcc10d90>            8             4   \n",
       "798   <function sigmoid at 0x7f5dbcc10d90>            8             8   \n",
       "562   <function sigmoid at 0x7f5dbcc10d90>           32            32   \n",
       "1007  <function sigmoid at 0x7f5dbcc10d90>           16             4   \n",
       "916   <function sigmoid at 0x7f5dbcc10d90>            8             8   \n",
       "\n",
       "                               optimizer      lr  \\\n",
       "268      <class 'keras.optimizers.Adam'>  4.0002   \n",
       "798   <class 'keras.optimizers.RMSprop'>  2.5005   \n",
       "562      <class 'keras.optimizers.Adam'>  4.0002   \n",
       "1007  <class 'keras.optimizers.RMSprop'>  3.0004   \n",
       "916   <class 'keras.optimizers.RMSprop'>  3.0004   \n",
       "\n",
       "                                                losses epochs  \n",
       "268   <function binary_crossentropy at 0x7f5dbcc60bf8>   1000  \n",
       "798   <function binary_crossentropy at 0x7f5dbcc60bf8>   1000  \n",
       "562   <function binary_crossentropy at 0x7f5dbcc60bf8>    800  \n",
       "1007  <function binary_crossentropy at 0x7f5dbcc60bf8>    500  \n",
       "916   <function binary_crossentropy at 0x7f5dbcc60bf8>    500  \n",
       "\n",
       "[5 rows x 23 columns]"
      ]
     },
     "execution_count": 89,
     "metadata": {},
     "output_type": "execute_result"
    }
   ],
   "source": [
    "r_acc4.results.sort_values(\"val_acc\", ascending=False).head() "
   ]
  },
  {
   "cell_type": "code",
   "execution_count": 90,
   "metadata": {},
   "outputs": [
    {
     "data": {
      "text/plain": [
       "0.9007263922518159"
      ]
     },
     "execution_count": 90,
     "metadata": {},
     "output_type": "execute_result"
    }
   ],
   "source": [
    "model4=r_acc4.model\n",
    "y_pred_train=model4.predict_classes(X_train)\n",
    "(y_pred_train==y_train).mean()\n"
   ]
  },
  {
   "cell_type": "code",
   "execution_count": 91,
   "metadata": {},
   "outputs": [
    {
     "data": {
      "text/plain": [
       "0.9007263922518159"
      ]
     },
     "execution_count": 91,
     "metadata": {},
     "output_type": "execute_result"
    }
   ],
   "source": [
    "accuracy_score(y_pred_train, y_train)  #this should be 92"
   ]
  },
  {
   "cell_type": "code",
   "execution_count": null,
   "metadata": {},
   "outputs": [],
   "source": []
  },
  {
   "cell_type": "code",
   "execution_count": null,
   "metadata": {},
   "outputs": [],
   "source": []
  },
  {
   "cell_type": "code",
   "execution_count": null,
   "metadata": {},
   "outputs": [],
   "source": []
  },
  {
   "cell_type": "code",
   "execution_count": null,
   "metadata": {},
   "outputs": [],
   "source": []
  },
  {
   "cell_type": "code",
   "execution_count": null,
   "metadata": {},
   "outputs": [],
   "source": []
  },
  {
   "cell_type": "code",
   "execution_count": null,
   "metadata": {},
   "outputs": [],
   "source": []
  },
  {
   "cell_type": "code",
   "execution_count": null,
   "metadata": {},
   "outputs": [],
   "source": []
  },
  {
   "cell_type": "code",
   "execution_count": null,
   "metadata": {},
   "outputs": [],
   "source": []
  },
  {
   "cell_type": "code",
   "execution_count": null,
   "metadata": {},
   "outputs": [],
   "source": []
  },
  {
   "cell_type": "code",
   "execution_count": null,
   "metadata": {},
   "outputs": [],
   "source": []
  },
  {
   "cell_type": "code",
   "execution_count": null,
   "metadata": {},
   "outputs": [],
   "source": []
  },
  {
   "cell_type": "code",
   "execution_count": null,
   "metadata": {},
   "outputs": [],
   "source": []
  },
  {
   "cell_type": "code",
   "execution_count": null,
   "metadata": {},
   "outputs": [],
   "source": []
  },
  {
   "cell_type": "code",
   "execution_count": null,
   "metadata": {},
   "outputs": [],
   "source": []
  },
  {
   "cell_type": "code",
   "execution_count": null,
   "metadata": {},
   "outputs": [],
   "source": []
  },
  {
   "cell_type": "code",
   "execution_count": null,
   "metadata": {},
   "outputs": [],
   "source": []
  },
  {
   "cell_type": "code",
   "execution_count": null,
   "metadata": {},
   "outputs": [],
   "source": []
  },
  {
   "cell_type": "code",
   "execution_count": null,
   "metadata": {},
   "outputs": [],
   "source": []
  },
  {
   "cell_type": "code",
   "execution_count": null,
   "metadata": {},
   "outputs": [],
   "source": []
  },
  {
   "cell_type": "code",
   "execution_count": null,
   "metadata": {},
   "outputs": [],
   "source": []
  },
  {
   "cell_type": "code",
   "execution_count": null,
   "metadata": {},
   "outputs": [],
   "source": []
  },
  {
   "cell_type": "code",
   "execution_count": null,
   "metadata": {},
   "outputs": [],
   "source": []
  },
  {
   "cell_type": "code",
   "execution_count": null,
   "metadata": {},
   "outputs": [],
   "source": []
  },
  {
   "cell_type": "code",
   "execution_count": null,
   "metadata": {},
   "outputs": [],
   "source": []
  },
  {
   "cell_type": "code",
   "execution_count": null,
   "metadata": {},
   "outputs": [],
   "source": []
  },
  {
   "cell_type": "code",
   "execution_count": null,
   "metadata": {},
   "outputs": [],
   "source": []
  },
  {
   "cell_type": "code",
   "execution_count": null,
   "metadata": {},
   "outputs": [],
   "source": []
  },
  {
   "cell_type": "code",
   "execution_count": null,
   "metadata": {},
   "outputs": [],
   "source": []
  },
  {
   "cell_type": "code",
   "execution_count": null,
   "metadata": {},
   "outputs": [],
   "source": []
  },
  {
   "cell_type": "code",
   "execution_count": null,
   "metadata": {},
   "outputs": [],
   "source": []
  },
  {
   "cell_type": "code",
   "execution_count": null,
   "metadata": {},
   "outputs": [],
   "source": []
  },
  {
   "cell_type": "code",
   "execution_count": null,
   "metadata": {},
   "outputs": [],
   "source": []
  },
  {
   "cell_type": "code",
   "execution_count": null,
   "metadata": {},
   "outputs": [],
   "source": []
  },
  {
   "cell_type": "code",
   "execution_count": null,
   "metadata": {},
   "outputs": [],
   "source": []
  },
  {
   "cell_type": "code",
   "execution_count": null,
   "metadata": {},
   "outputs": [],
   "source": []
  },
  {
   "cell_type": "code",
   "execution_count": null,
   "metadata": {},
   "outputs": [],
   "source": []
  },
  {
   "cell_type": "code",
   "execution_count": null,
   "metadata": {},
   "outputs": [],
   "source": []
  },
  {
   "cell_type": "code",
   "execution_count": null,
   "metadata": {},
   "outputs": [],
   "source": []
  }
 ],
 "metadata": {
  "kernelspec": {
   "display_name": "Python 3",
   "language": "python",
   "name": "python3"
  },
  "language_info": {
   "codemirror_mode": {
    "name": "ipython",
    "version": 3
   },
   "file_extension": ".py",
   "mimetype": "text/x-python",
   "name": "python",
   "nbconvert_exporter": "python",
   "pygments_lexer": "ipython3",
   "version": "3.6.7"
  }
 },
 "nbformat": 4,
 "nbformat_minor": 2
}
